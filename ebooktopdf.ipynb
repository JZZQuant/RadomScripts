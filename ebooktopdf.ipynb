{
 "cells": [
  {
   "cell_type": "code",
   "execution_count": null,
   "metadata": {
    "collapsed": false
   },
   "outputs": [],
   "source": [
    "import glob\n",
    "onlyfiles = [f for f in glob.glob(\"*.html\")]"
   ]
  },
  {
   "cell_type": "code",
   "execution_count": null,
   "metadata": {
    "collapsed": false
   },
   "outputs": [],
   "source": [
    "import pdfkit\n",
    "for html in onlyfiles:\n",
    "    pdf=html.split(\".\")[0]+\".pdf\"\n",
    "    pdfkit.from_file(html,pdf)"
   ]
  },
  {
   "cell_type": "code",
   "execution_count": null,
   "metadata": {
    "collapsed": false
   },
   "outputs": [],
   "source": [
    "import os\n",
    "for htmls in onlyfiles:\n",
    "    os.remove(htmls)"
   ]
  },
  {
   "cell_type": "code",
   "execution_count": null,
   "metadata": {
    "collapsed": false
   },
   "outputs": [],
   "source": [
    "import httplib2\n",
    "from bs4 import BeautifulSoup, SoupStrainer\n",
    "\n",
    "http = httplib2.Http()\n",
    "status, response = http.request('http://www.deeplearningbook.org/')\n",
    "\n",
    "soup= BeautifulSoup(response)\n",
    "pdfordered=[tag['href'].split(\"/\")[-1].replace(\"html\",\"pdf\") for tag in soup.select('a[href]') if 'contents' in tag['href']]"
   ]
  },
  {
   "cell_type": "code",
   "execution_count": 26,
   "metadata": {
    "collapsed": false
   },
   "outputs": [],
   "source": [
    "from pyPdf import PdfFileWriter, PdfFileReader\n",
    "\n",
    "# Creating a routine that appends files to the output file\n",
    "def append_pdf(input,output):\n",
    "    [output.addPage(input.getPage(page_num)) for page_num in range(input.numPages)]\n",
    "\n",
    "# Creating an object where pdf pages are appended to\n",
    "output = PdfFileWriter()\n",
    "\n",
    "for eachPdf in pdfordered:\n",
    "    # Appending two pdf-pages from two different files\n",
    "    append_pdf(PdfFileReader(open(eachPdf,\"rb\")),output)\n",
    "\n",
    "# Writing all the collected pages to a file\n",
    "output.write(open(\"DeepLearning.pdf\",\"wb\"))"
   ]
  },
  {
   "cell_type": "code",
   "execution_count": null,
   "metadata": {
    "collapsed": true
   },
   "outputs": [],
   "source": []
  }
 ],
 "metadata": {
  "kernelspec": {
   "display_name": "Python 2",
   "language": "python",
   "name": "python2"
  },
  "language_info": {
   "codemirror_mode": {
    "name": "ipython",
    "version": 2
   },
   "file_extension": ".py",
   "mimetype": "text/x-python",
   "name": "python",
   "nbconvert_exporter": "python",
   "pygments_lexer": "ipython2",
   "version": "2.7.11"
  }
 },
 "nbformat": 4,
 "nbformat_minor": 0
}
